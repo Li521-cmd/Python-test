{
 "cells": [
  {
   "cell_type": "code",
   "execution_count": 12,
   "metadata": {},
   "outputs": [
    {
     "name": "stdout",
     "output_type": "stream",
     "text": [
      "0 1 1 2 3 5 8 13 21 34 55 89 144 233 377 610 987 1597 2584 4181 6765 10946 17711 28657 46368 75025 121393 196418 317811 514229 832040 1346269 2178309 3524578 5702887 9227465 14930352 24157817 39088169 63245986 102334155 165580141 267914296 433494437 701408733 1134903170 1836311903 2971215073 4807526976 7778742049 12586269025 20365011074 32951280099 53316291173 86267571272 139583862445 225851433717 365435296162 591286729879 956722026041 1548008755920 2504730781961 4052739537881 6557470319842 10610209857723 17167680177565 27777890035288 44945570212853 72723460248141 117669030460994 190392490709135 308061521170129 498454011879264 806515533049393 1304969544928657 2111485077978050 3416454622906707 5527939700884757 8944394323791464 14472334024676221 23416728348467685 37889062373143906 61305790721611591 99194853094755497 160500643816367088 259695496911122585 420196140727489673 679891637638612258 1100087778366101931 1779979416004714189 2880067194370816120 4660046610375530309 7540113804746346429 12200160415121876738 19740274219868223167 31940434634990099905 51680708854858323072 83621143489848422977 135301852344706746049 218922995834555169026 354224848179261915075 "
     ]
    }
   ],
   "source": [
    "a=0\n",
    "b=1\n",
    "print(a,end=\" \")\n",
    "print (b,end=\" \")\n",
    "i=1\n",
    "while i<100:\n",
    " c=a+b\n",
    " print (c,end=\" \")\n",
    " a=b\n",
    " b=c\n",
    " i+=1"
   ]
  },
  {
   "cell_type": "code",
   "execution_count": 14,
   "metadata": {},
   "outputs": [
    {
     "name": "stdout",
     "output_type": "stream",
     "text": [
      "请输入一个正整数：100\n",
      "301 150 451 225 112 337 168 505 252 757 378 1135 567 283 141 70 211 105 52 157 78 235 117 58 175 87 43 21 10 31 15 7 3 1 "
     ]
    }
   ],
   "source": [
    "def judage(n):\n",
    "    while n > 1:\n",
    "        if n % 2 == 0:\n",
    "            n = int(n * 3 + 1)\n",
    "            print(n,end=\" \")\n",
    "        elif n % 2 != 0:\n",
    "            n = int(n / 2)\n",
    "            print(n,end=\" \")\n",
    "\n",
    "def main():\n",
    "    n = int(input(\"请输入一个正整数：\"))\n",
    "    judage(n)\n",
    "main()\n",
    "\n"
   ]
  },
  {
   "cell_type": "code",
   "execution_count": 3,
   "metadata": {},
   "outputs": [
    {
     "name": "stdout",
     "output_type": "stream",
     "text": [
      "12+7=\n",
      "请输入答案：8\n",
      "很遗憾您回答错误，当前分数为：0\n",
      "您已答了1道题，是否继续答题（y/n）\n",
      "回答结束，共计答题：1道\n",
      "当前分数为：0\n"
     ]
    }
   ],
   "source": [
    "    import random\n",
    "    import operator\n",
    "    \n",
    "    i = 1\n",
    "    grade = 0\n",
    "    while i <= 10:\n",
    "        a = random.randint(0, 20)\n",
    "        symbol = '+-*/'\n",
    "        # 随机运算符\n",
    "        sym = random.choice(symbol)\n",
    "        b = random.randint(1, a)\n",
    "        shizi = str(a) + sym + str(b)\n",
    "        print(shizi + \"=\")\n",
    "        # eval函数，执行一个字符串表达式，并返回表达式的值\n",
    "        c = eval(shizi)\n",
    "        user = int(input('请输入答案：'))\n",
    "        if (user == c):\n",
    "            grade += 10\n",
    "            # 加个条件\n",
    "            if (i == 10):\n",
    "                print('答题结束！最终分数为：' + str(grade))\n",
    "                break\n",
    "            print('恭喜您回答正确，当前分数为：' + str(grade))\n",
    "            con = input('您已答了' + str(i) + '道题，' + '是否继续答题（y/n）')\n",
    "            if (con == 'y'):\n",
    "                i += 1\n",
    "            else:\n",
    "                print('回答结束，共计答题：' + str(i) + '道，分数为：' + str(grade))\n",
    "                i = 11\n",
    "        else:\n",
    "            print('很遗憾您回答错误，当前分数为：' + str(grade))\n",
    "            con = input('您已答了' + str(i) + '道题，' + '是否继续答题（y/n）')\n",
    "            if (con == 'y'):\n",
    "                i += 1\n",
    "            else:\n",
    "                print('回答结束，共计答题：' + str(i) + '道')\n",
    "                i = 11\n",
    "    print('当前分数为：' + str(grade))"
   ]
  },
  {
   "cell_type": "code",
   "execution_count": null,
   "metadata": {},
   "outputs": [
    {
     "name": "stdout",
     "output_type": "stream",
     "text": [
      "Sun Nov  3 20:21:11 2019\n",
      "Sun Nov  3 20:21:13 2019\n",
      "1     January 2010\n",
      "Mo Tu We Th Fr Sa Su\n",
      "             1  2  3\n",
      " 4  5  6  7  8  9 10\n",
      "11 12 13 14 15 16 17\n",
      "18 19 20 21 22 23 24\n",
      "25 26 27 28 29 30 31\n",
      "\n",
      "2    February 2010\n",
      "Mo Tu We Th Fr Sa Su\n",
      " 1  2  3  4  5  6  7\n",
      " 8  9 10 11 12 13 14\n",
      "15 16 17 18 19 20 21\n",
      "22 23 24 25 26 27 28\n",
      "\n",
      "3      March 2010\n",
      "Mo Tu We Th Fr Sa Su\n",
      " 1  2  3  4  5  6  7\n",
      " 8  9 10 11 12 13 14\n",
      "15 16 17 18 19 20 21\n",
      "22 23 24 25 26 27 28\n",
      "29 30 31\n",
      "\n",
      "4      April 2010\n",
      "Mo Tu We Th Fr Sa Su\n",
      "          1  2  3  4\n",
      " 5  6  7  8  9 10 11\n",
      "12 13 14 15 16 17 18\n",
      "19 20 21 22 23 24 25\n",
      "26 27 28 29 30\n",
      "\n",
      "5       May 2010\n",
      "Mo Tu We Th Fr Sa Su\n",
      "                1  2\n",
      " 3  4  5  6  7  8  9\n",
      "10 11 12 13 14 15 16\n",
      "17 18 19 20 21 22 23\n",
      "24 25 26 27 28 29 30\n",
      "31\n",
      "\n",
      "6      June 2010\n",
      "Mo Tu We Th Fr Sa Su\n",
      "    1  2  3  4  5  6\n",
      " 7  8  9 10 11 12 13\n",
      "14 15 16 17 18 19 20\n",
      "21 22 23 24 25 26 27\n",
      "28 29 30\n",
      "\n",
      "7      July 2010\n",
      "Mo Tu We Th Fr Sa Su\n",
      "          1  2  3  4\n",
      " 5  6  7  8  9 10 11\n",
      "12 13 14 15 16 17 18\n",
      "19 20 21 22 23 24 25\n",
      "26 27 28 29 30 31\n",
      "\n",
      "8     August 2010\n",
      "Mo Tu We Th Fr Sa Su\n",
      "                   1\n",
      " 2  3  4  5  6  7  8\n",
      " 9 10 11 12 13 14 15\n",
      "16 17 18 19 20 21 22\n",
      "23 24 25 26 27 28 29\n",
      "30 31\n",
      "\n",
      "9    September 2010\n",
      "Mo Tu We Th Fr Sa Su\n",
      "       1  2  3  4  5\n",
      " 6  7  8  9 10 11 12\n",
      "13 14 15 16 17 18 19\n",
      "20 21 22 23 24 25 26\n",
      "27 28 29 30\n",
      "\n"
     ]
    }
   ],
   "source": [
    "import time\n",
    "import calendar\n",
    "k=0\n",
    "def nowtime():\n",
    "    t1=time.time()\n",
    "    localt1=time.localtime(t1)\n",
    "    localtime=time.asctime(localt1)\n",
    "    print(localtime)\n",
    "while k<=1:\n",
    "    k+=1\n",
    "    time.sleep(2)\n",
    "    nowtime()\n",
    "    m=2010\n",
    "for i in range(1,13):\n",
    "    print(i,calendar.month(m,i))\n",
    "    time.sleep(1)\n",
    "   "
   ]
  },
  {
   "cell_type": "code",
   "execution_count": null,
   "metadata": {},
   "outputs": [],
   "source": []
  }
 ],
 "metadata": {
  "kernelspec": {
   "display_name": "Python 3",
   "language": "python",
   "name": "python3"
  },
  "language_info": {
   "codemirror_mode": {
    "name": "ipython",
    "version": 3
   },
   "file_extension": ".py",
   "mimetype": "text/x-python",
   "name": "python",
   "nbconvert_exporter": "python",
   "pygments_lexer": "ipython3",
   "version": "3.7.0"
  }
 },
 "nbformat": 4,
 "nbformat_minor": 2
}
